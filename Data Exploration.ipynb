{
 "cells": [
  {
   "cell_type": "code",
   "execution_count": 322,
   "metadata": {},
   "outputs": [],
   "source": [
    "import numpy as np\n",
    "import pandas as pd\n",
    "from pandas_datareader import data as wb\n",
    "import matplotlib.pyplot as plt\n",
    "%matplotlib inline"
   ]
  },
  {
   "cell_type": "code",
   "execution_count": 323,
   "metadata": {},
   "outputs": [],
   "source": [
    "data=wb.DataReader(\"SSL\", data_source = 'yahoo', start = '2010-1-1')"
   ]
  },
  {
   "cell_type": "code",
   "execution_count": 324,
   "metadata": {},
   "outputs": [],
   "source": [
    "#closing price vs adj closing depending on the real life application. For day trading where you are wanting to trade\n",
    "# a cfd the closing price is best. The adjusted price would if you are holding the stock and dividends/splits play a\n",
    "#role in your end return\n",
    "data['movement %'] = (data[\"Close\"]/data[\"Close\"].shift(1)-1)*100"
   ]
  },
  {
   "cell_type": "code",
   "execution_count": 325,
   "metadata": {},
   "outputs": [],
   "source": [
    "data['Target'] = data['movement %'].apply(lambda x : \"Up\" if x >0 else \"Down\")"
   ]
  },
  {
   "cell_type": "code",
   "execution_count": 326,
   "metadata": {},
   "outputs": [],
   "source": [
    "#drop the first column\n",
    "data=data.iloc[1:]"
   ]
  },
  {
   "cell_type": "code",
   "execution_count": 327,
   "metadata": {},
   "outputs": [
    {
     "data": {
      "text/html": [
       "<div>\n",
       "<style scoped>\n",
       "    .dataframe tbody tr th:only-of-type {\n",
       "        vertical-align: middle;\n",
       "    }\n",
       "\n",
       "    .dataframe tbody tr th {\n",
       "        vertical-align: top;\n",
       "    }\n",
       "\n",
       "    .dataframe thead th {\n",
       "        text-align: right;\n",
       "    }\n",
       "</style>\n",
       "<table border=\"1\" class=\"dataframe\">\n",
       "  <thead>\n",
       "    <tr style=\"text-align: right;\">\n",
       "      <th></th>\n",
       "      <th>High</th>\n",
       "      <th>Low</th>\n",
       "      <th>Open</th>\n",
       "      <th>Close</th>\n",
       "      <th>Volume</th>\n",
       "      <th>Adj Close</th>\n",
       "      <th>movement %</th>\n",
       "      <th>Target</th>\n",
       "    </tr>\n",
       "    <tr>\n",
       "      <th>Date</th>\n",
       "      <th></th>\n",
       "      <th></th>\n",
       "      <th></th>\n",
       "      <th></th>\n",
       "      <th></th>\n",
       "      <th></th>\n",
       "      <th></th>\n",
       "      <th></th>\n",
       "    </tr>\n",
       "  </thead>\n",
       "  <tbody>\n",
       "    <tr>\n",
       "      <th>2010-01-05</th>\n",
       "      <td>41.919998</td>\n",
       "      <td>41.610001</td>\n",
       "      <td>41.720001</td>\n",
       "      <td>41.799999</td>\n",
       "      <td>169200.0</td>\n",
       "      <td>28.939795</td>\n",
       "      <td>0.119759</td>\n",
       "      <td>Up</td>\n",
       "    </tr>\n",
       "    <tr>\n",
       "      <th>2010-01-06</th>\n",
       "      <td>42.150002</td>\n",
       "      <td>41.590000</td>\n",
       "      <td>41.590000</td>\n",
       "      <td>42.139999</td>\n",
       "      <td>259400.0</td>\n",
       "      <td>29.175188</td>\n",
       "      <td>0.813398</td>\n",
       "      <td>Up</td>\n",
       "    </tr>\n",
       "    <tr>\n",
       "      <th>2010-01-07</th>\n",
       "      <td>42.000000</td>\n",
       "      <td>41.400002</td>\n",
       "      <td>41.480000</td>\n",
       "      <td>41.919998</td>\n",
       "      <td>212800.0</td>\n",
       "      <td>29.022886</td>\n",
       "      <td>-0.522072</td>\n",
       "      <td>Down</td>\n",
       "    </tr>\n",
       "    <tr>\n",
       "      <th>2010-01-08</th>\n",
       "      <td>42.549999</td>\n",
       "      <td>41.750000</td>\n",
       "      <td>41.889999</td>\n",
       "      <td>42.439999</td>\n",
       "      <td>212100.0</td>\n",
       "      <td>29.382904</td>\n",
       "      <td>1.240459</td>\n",
       "      <td>Up</td>\n",
       "    </tr>\n",
       "    <tr>\n",
       "      <th>2010-01-11</th>\n",
       "      <td>43.400002</td>\n",
       "      <td>42.849998</td>\n",
       "      <td>42.900002</td>\n",
       "      <td>42.980000</td>\n",
       "      <td>244800.0</td>\n",
       "      <td>29.756765</td>\n",
       "      <td>1.272387</td>\n",
       "      <td>Up</td>\n",
       "    </tr>\n",
       "  </tbody>\n",
       "</table>\n",
       "</div>"
      ],
      "text/plain": [
       "                 High        Low       Open      Close    Volume  Adj Close  \\\n",
       "Date                                                                          \n",
       "2010-01-05  41.919998  41.610001  41.720001  41.799999  169200.0  28.939795   \n",
       "2010-01-06  42.150002  41.590000  41.590000  42.139999  259400.0  29.175188   \n",
       "2010-01-07  42.000000  41.400002  41.480000  41.919998  212800.0  29.022886   \n",
       "2010-01-08  42.549999  41.750000  41.889999  42.439999  212100.0  29.382904   \n",
       "2010-01-11  43.400002  42.849998  42.900002  42.980000  244800.0  29.756765   \n",
       "\n",
       "            movement % Target  \n",
       "Date                           \n",
       "2010-01-05    0.119759     Up  \n",
       "2010-01-06    0.813398     Up  \n",
       "2010-01-07   -0.522072   Down  \n",
       "2010-01-08    1.240459     Up  \n",
       "2010-01-11    1.272387     Up  "
      ]
     },
     "execution_count": 327,
     "metadata": {},
     "output_type": "execute_result"
    }
   ],
   "source": [
    "data.head()"
   ]
  },
  {
   "cell_type": "markdown",
   "metadata": {},
   "source": [
    "## Display Price over Time"
   ]
  },
  {
   "cell_type": "code",
   "execution_count": 328,
   "metadata": {},
   "outputs": [
    {
     "data": {
      "text/plain": [
       "<matplotlib.axes._subplots.AxesSubplot at 0x1a20a3db70>"
      ]
     },
     "execution_count": 328,
     "metadata": {},
     "output_type": "execute_result"
    },
    {
     "data": {
      "image/png": "[encoded data removed]",
      "text/plain": [
       "<Figure size 720x360 with 1 Axes>"
      ]
     },
     "metadata": {
      "needs_background": "light"
     },
     "output_type": "display_data"
    }
   ],
   "source": [
    "data[[\"Close\",\"Adj Close\"]].plot(figsize=(10, 5))"
   ]
  },
  {
   "cell_type": "code",
   "execution_count": 329,
   "metadata": {},
   "outputs": [],
   "source": [
    "std_close = (data[\"Close\"]-data[\"Close\"].shift(1)).std()\n",
    "std_vol = (data[\"Volume\"]-data[\"Volume\"].shift(1)).std()"
   ]
  },
  {
   "cell_type": "code",
   "execution_count": 342,
   "metadata": {},
   "outputs": [
    {
     "data": {
      "text/plain": [
       "0.7667770984612836"
      ]
     },
     "execution_count": 342,
     "metadata": {},
     "output_type": "execute_result"
    }
   ],
   "source": [
    "std_close"
   ]
  },
  {
   "cell_type": "code",
   "execution_count": 330,
   "metadata": {},
   "outputs": [],
   "source": [
    "def close(A,B):\n",
    "    if (A[\"Close\"] - B[\"Close\"])>std_close*2:\n",
    "        return \"L\"\n",
    "    elif (A[\"Close\"] - B[\"Close\"]) <std_close:\n",
    "        return \"S\"\n",
    "    else: return \"M\"\n",
    "\n",
    "def volume(A,B):\n",
    "    if (A[\"Volume\"] - B[\"Volume\"])>std_vol*2:\n",
    "        return \"L\"\n",
    "    elif (A[\"Volume\"] - B[\"Volume\"]) <std_vol:\n",
    "        return \"S\"\n",
    "    else: return \"M\""
   ]
  },
  {
   "cell_type": "code",
   "execution_count": 331,
   "metadata": {},
   "outputs": [],
   "source": [
    "def data2features(data,i):\n",
    "    A=data.iloc[i]\n",
    "    A_1=data.iloc[i-1]\n",
    "    \n",
    "    features = {\n",
    "    \"close\":close(A,A_1),\n",
    "    \"volume\": volume(A,A_1)\n",
    "    }\n",
    "    return features\n",
    "    "
   ]
  },
  {
   "cell_type": "code",
   "execution_count": 333,
   "metadata": {},
   "outputs": [
    {
     "data": {
      "text/plain": [
       "{'close': 'S', 'volume': 'S'}"
      ]
     },
     "execution_count": 333,
     "metadata": {},
     "output_type": "execute_result"
    }
   ],
   "source": [
    "data2features(data,1)"
   ]
  },
  {
   "cell_type": "code",
   "execution_count": 334,
   "metadata": {},
   "outputs": [],
   "source": [
    "X_train = []\n",
    "for i in range(1,data.shape[0]):\n",
    "    X_train.append(data2features(data,i))\n",
    "X_train = [X_train]"
   ]
  },
  {
   "cell_type": "code",
   "execution_count": 335,
   "metadata": {},
   "outputs": [],
   "source": [
    "Y_train=[list(data[\"Target\"].shift(-1))[:-1]]"
   ]
  },
  {
   "cell_type": "code",
   "execution_count": 338,
   "metadata": {},
   "outputs": [],
   "source": [
    "#Model\n",
    "from sklearn_crfsuite import CRF\n",
    "\n",
    "#Evalulation\n",
    "from sklearn.model_selection import cross_val_predict\n",
    "from sklearn_crfsuite.metrics import flat_classification_report\n",
    "from sklearn_crfsuite.metrics import flat_f1_score\n",
    "from sklearn_crfsuite.metrics import flat_accuracy_score"
   ]
  },
  {
   "cell_type": "code",
   "execution_count": 341,
   "metadata": {},
   "outputs": [
    {
     "name": "stdout",
     "output_type": "stream",
     "text": [
      "              precision    recall  f1-score   support\n",
      "\n",
      "        Down       0.57      1.00      0.73      1295\n",
      "          Up       1.00      0.25      0.39      1300\n",
      "\n",
      "   micro avg       0.62      0.62      0.62      2595\n",
      "   macro avg       0.78      0.62      0.56      2595\n",
      "weighted avg       0.78      0.62      0.56      2595\n",
      "\n",
      "F1=62.20\n",
      "CPU times: user 58.4 ms, sys: 4.31 ms, total: 62.7 ms\n",
      "Wall time: 68 ms\n"
     ]
    }
   ],
   "source": [
    "%%time\n",
    "crf4 = CRF(algorithm='lbfgs',\n",
    "           max_iterations=20,\n",
    "           c1=0.1,\n",
    "           c2=0.2,\n",
    "           all_possible_transitions=False)\n",
    "\n",
    "#training model\n",
    "crf4.fit(X=X_train, y=Y_train)\n",
    "\n",
    "#generate predictions\n",
    "pred = crf4.predict(X_train)\n",
    "\n",
    "#generate report on entire model\n",
    "report = flat_classification_report(y_pred=pred, y_true=Y_train)\n",
    "print(report)\n",
    "\n",
    "acc = flat_accuracy_score(y_pred=pred, y_true=Y_train)\n",
    "print(\"F1=%.2f\"%(acc*100))"
   ]
  },
  {
   "cell_type": "code",
   "execution_count": null,
   "metadata": {},
   "outputs": [],
   "source": []
  }
 ],
 "metadata": {
  "kernelspec": {
   "display_name": "Python 3",
   "language": "python",
   "name": "python3"
  },
  "language_info": {
   "codemirror_mode": {
    "name": "ipython",
    "version": 3
   },
   "file_extension": ".py",
   "mimetype": "text/x-python",
   "name": "python",
   "nbconvert_exporter": "python",
   "pygments_lexer": "ipython3",
   "version": "3.7.1"
  }
 },
 "nbformat": 4,
 "nbformat_minor": 2
}
